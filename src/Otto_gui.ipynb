{
 "cells": [
  {
   "cell_type": "code",
   "execution_count": 51,
   "metadata": {},
   "outputs": [],
   "source": [
    "import pandas as pd\n",
    "import numpy as np\n",
    "import tkinter as tk\n",
    "from random import randint\n",
    "from tkinter import ttk\n",
    "from tkinter.messagebox import showinfo"
   ]
  },
  {
   "cell_type": "code",
   "execution_count": 42,
   "metadata": {},
   "outputs": [],
   "source": [
    "r = Tk(screenName=None,  baseName=None,  className='Tk',  useTk=1)\n",
    "frm = ttk.Frame(r, padding=70)\n",
    "frm.grid()\n",
    "ttk.Label(frm, text=\"Welcome, I'm Otto!\\nDo you already have a user profile?\").grid(column=0, row=0)\n",
    "\n",
    "var1 = IntVar()\n",
    "Checkbutton(frm, text='Yes', variable=var1).grid(row=1, sticky=W)\n",
    "var2 = IntVar()\n",
    "Checkbutton(frm, text='No', variable=var2).grid(row=2, sticky=W)\n",
    "\n",
    "\n",
    "w=tk.Entry(frm)\n",
    "\n",
    "ttk.Button(frm, text='Quit', width=15, command=r.destroy).grid(column=0, row=3)\n",
    "r.mainloop()"
   ]
  },
  {
   "cell_type": "code",
   "execution_count": 33,
   "metadata": {},
   "outputs": [],
   "source": [
    "master = tk.Tk()\n",
    "tk.Label(master, text='First Name').grid(row=0)\n",
    "tk.Label(master, text='Last Name').grid(row=1)\n",
    "e1 = tk.Entry(master)\n",
    "e2 = tk.Entry(master)\n",
    "e1.grid(row=0, column=1)\n",
    "e2.grid(row=1, column=1)\n",
    "tk.mainloop()"
   ]
  },
  {
   "cell_type": "code",
   "execution_count": 52,
   "metadata": {},
   "outputs": [],
   "source": [
    "class App(tk.Tk):\n",
    "    def __init__(self):\n",
    "        super().__init__()\n",
    "    \n",
    "        # configure the root window\n",
    "        self.title('My Awesome App')\n",
    "        self.geometry('300x50')\n",
    "\n",
    "        # label\n",
    "        self.label = ttk.Label(self, text='Hello, Tkinter!')\n",
    "        self.label.pack()\n",
    "\n",
    "        # button\n",
    "        self.button = ttk.Button(self, text='Click Me')\n",
    "        self.button['command'] = self.button_clicked\n",
    "        self.button.pack()\n",
    "\n",
    "    def button_clicked(self):\n",
    "        showinfo(title='Information', message='Hello, Tkinter!')\n",
    "\n",
    "\n",
    "if __name__ == \"__main__\":\n",
    "    app = App()\n",
    "    app.mainloop()"
   ]
  },
  {
   "cell_type": "code",
   "execution_count": 94,
   "metadata": {},
   "outputs": [],
   "source": [
    "from tkinter.messagebox import showerror\n",
    "\n",
    "# root window\n",
    "root = tk.Tk()\n",
    "root.title(\"Otto\")\n",
    "root.geometry('500x300')\n",
    "root.resizable(False, False)\n",
    "\n",
    "\n",
    "# frame\n",
    "#frame = ttk.Frame(root)\n",
    "\n",
    "\n",
    "# field options\n",
    "#options = {'padx': 5, 'pady': 5}\n",
    "\n",
    "\n",
    "#var1 = tk.IntVar()\n",
    "#yes_btn = tk.Checkbutton(frame, text='Yes', variable=var1).grid(row=1, sticky=W)\n",
    "#var2 = tk.IntVar()\n",
    "#no_btn = tk.Checkbutton(frame, text='No', variable=var2).grid(row=2, sticky=W)\n",
    "#yes_btn.focus()\n",
    "#no_btn.focus()\n",
    "\n",
    "def profile(text):\n",
    "    New_Window()\n",
    "    return(text)\n",
    "\n",
    "def New_Window():\n",
    "    Window = tk.Toplevel()\n",
    "    canvas = tk.Canvas(Window, height=HEIGHT, width=WIDTH)\n",
    "    canvas.pack()\n",
    "\n",
    "y = ttk.Button(root, text='Yes', command=lambda: profile('Yes')).pack()\n",
    "n = ttk.Button(root, text='No', command=lambda: profile('No')).pack()\n",
    "\n",
    "# result label\n",
    "#result_label = ttk.Label(frame)\n",
    "#result_label.grid(row=1, columnspan=3, **options)\n",
    "\n",
    "# add padding to the frame and show it\n",
    "#frame.grid(padx=10, pady=10)\n",
    "if y == 'Yes':\n",
    "    print('OK')\n",
    "\n",
    "# start the app\n",
    "root.mainloop()"
   ]
  },
  {
   "cell_type": "code",
   "execution_count": 95,
   "metadata": {},
   "outputs": [],
   "source": [
    "def New_Window():\n",
    "    Window = tk.Toplevel()\n",
    "    canvas = tk.Canvas(Window, height=HEIGHT, width=WIDTH)\n",
    "    canvas.pack()\n",
    "    \n",
    "HEIGHT = 300\n",
    "WIDTH = 500\n",
    "\n",
    "ws = tk.Tk()\n",
    "ws.title(\"Python Guides\")\n",
    "canvas = tk.Canvas(ws, height=HEIGHT, width=WIDTH)\n",
    "canvas.pack()\n",
    "\n",
    "button = tk.Button(ws, text=\"Click ME\", bg='White', fg='Black',\n",
    "                              command=lambda: New_Window())\n",
    "\n",
    "button.pack()\n",
    "ws.mainloop()\n"
   ]
  }
 ],
 "metadata": {
  "interpreter": {
   "hash": "72b85d30a82ab122394ef13f4896ba3eef2003c51d611530425d7fe190dbd42f"
  },
  "kernelspec": {
   "display_name": "Python 3.9.7 ('base': conda)",
   "language": "python",
   "name": "python3"
  },
  "language_info": {
   "codemirror_mode": {
    "name": "ipython",
    "version": 3
   },
   "file_extension": ".py",
   "mimetype": "text/x-python",
   "name": "python",
   "nbconvert_exporter": "python",
   "pygments_lexer": "ipython3",
   "version": "3.9.7"
  },
  "orig_nbformat": 4
 },
 "nbformat": 4,
 "nbformat_minor": 2
}
